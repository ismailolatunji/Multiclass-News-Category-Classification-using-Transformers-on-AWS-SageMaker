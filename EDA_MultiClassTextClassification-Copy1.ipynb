{
 "cells": [
  {
   "cell_type": "code",
   "execution_count": 1,
   "id": "f843ef42-594c-4179-9625-ba0138f0a706",
   "metadata": {
    "execution": {
     "iopub.execute_input": "2025-06-04T08:42:27.747103Z",
     "iopub.status.busy": "2025-06-04T08:42:27.746804Z",
     "iopub.status.idle": "2025-06-04T08:42:29.104688Z",
     "shell.execute_reply": "2025-06-04T08:42:29.103846Z",
     "shell.execute_reply.started": "2025-06-04T08:42:27.747080Z"
    }
   },
   "outputs": [],
   "source": [
    "import pandas as pd\n",
    "import seaborn as sns\n",
    "import matplotlib.pyplot as plt"
   ]
  },
  {
   "cell_type": "code",
   "execution_count": 2,
   "id": "7e7ad7f4-a20d-424d-bd98-da1dd4c884e0",
   "metadata": {
    "execution": {
     "iopub.execute_input": "2025-06-04T08:42:30.404292Z",
     "iopub.status.busy": "2025-06-04T08:42:30.403329Z",
     "iopub.status.idle": "2025-06-04T08:42:30.409106Z",
     "shell.execute_reply": "2025-06-04T08:42:30.408203Z",
     "shell.execute_reply.started": "2025-06-04T08:42:30.404249Z"
    }
   },
   "outputs": [],
   "source": [
    "s3_path = 's3://ism-multiclass-textclassification-bucket/training-data/newsCorpora.csv'"
   ]
  },
  {
   "cell_type": "code",
   "execution_count": 3,
   "id": "00bb54ab-16c8-489d-a907-36a3f84fb031",
   "metadata": {
    "execution": {
     "iopub.execute_input": "2025-06-04T08:42:31.393851Z",
     "iopub.status.busy": "2025-06-04T08:42:31.393200Z",
     "iopub.status.idle": "2025-06-04T08:42:34.839623Z",
     "shell.execute_reply": "2025-06-04T08:42:34.838558Z",
     "shell.execute_reply.started": "2025-06-04T08:42:31.393819Z"
    }
   },
   "outputs": [],
   "source": [
    "df = pd.read_csv(s3_path, sep = '\\t', names = ['ID', 'TITLE', 'URL', 'PUBLISHER', 'CATEGORY', 'STORY', 'HOSTNAME', 'TIMESTAMP'])"
   ]
  },
  {
   "cell_type": "code",
   "execution_count": 4,
   "id": "84ed5a15-b446-47f4-b8cb-f119c8a54eda",
   "metadata": {
    "execution": {
     "iopub.execute_input": "2025-06-04T08:42:35.821151Z",
     "iopub.status.busy": "2025-06-04T08:42:35.820635Z",
     "iopub.status.idle": "2025-06-04T08:42:35.835623Z",
     "shell.execute_reply": "2025-06-04T08:42:35.834625Z",
     "shell.execute_reply.started": "2025-06-04T08:42:35.821123Z"
    }
   },
   "outputs": [
    {
     "data": {
      "text/html": [
       "<div>\n",
       "<style scoped>\n",
       "    .dataframe tbody tr th:only-of-type {\n",
       "        vertical-align: middle;\n",
       "    }\n",
       "\n",
       "    .dataframe tbody tr th {\n",
       "        vertical-align: top;\n",
       "    }\n",
       "\n",
       "    .dataframe thead th {\n",
       "        text-align: right;\n",
       "    }\n",
       "</style>\n",
       "<table border=\"1\" class=\"dataframe\">\n",
       "  <thead>\n",
       "    <tr style=\"text-align: right;\">\n",
       "      <th></th>\n",
       "      <th>ID</th>\n",
       "      <th>TITLE</th>\n",
       "      <th>URL</th>\n",
       "      <th>PUBLISHER</th>\n",
       "      <th>CATEGORY</th>\n",
       "      <th>STORY</th>\n",
       "      <th>HOSTNAME</th>\n",
       "      <th>TIMESTAMP</th>\n",
       "    </tr>\n",
       "  </thead>\n",
       "  <tbody>\n",
       "    <tr>\n",
       "      <th>0</th>\n",
       "      <td>1</td>\n",
       "      <td>Fed official says weak data caused by weather,...</td>\n",
       "      <td>http://www.latimes.com/business/money/la-fi-mo...</td>\n",
       "      <td>Los Angeles Times</td>\n",
       "      <td>b</td>\n",
       "      <td>ddUyU0VZz0BRneMioxUPQVP6sIxvM</td>\n",
       "      <td>www.latimes.com</td>\n",
       "      <td>1394470370698</td>\n",
       "    </tr>\n",
       "    <tr>\n",
       "      <th>1</th>\n",
       "      <td>2</td>\n",
       "      <td>Fed's Charles Plosser sees high bar for change...</td>\n",
       "      <td>http://www.livemint.com/Politics/H2EvwJSK2VE6O...</td>\n",
       "      <td>Livemint</td>\n",
       "      <td>b</td>\n",
       "      <td>ddUyU0VZz0BRneMioxUPQVP6sIxvM</td>\n",
       "      <td>www.livemint.com</td>\n",
       "      <td>1394470371207</td>\n",
       "    </tr>\n",
       "    <tr>\n",
       "      <th>2</th>\n",
       "      <td>3</td>\n",
       "      <td>US open: Stocks fall after Fed official hints ...</td>\n",
       "      <td>http://www.ifamagazine.com/news/us-open-stocks...</td>\n",
       "      <td>IFA Magazine</td>\n",
       "      <td>b</td>\n",
       "      <td>ddUyU0VZz0BRneMioxUPQVP6sIxvM</td>\n",
       "      <td>www.ifamagazine.com</td>\n",
       "      <td>1394470371550</td>\n",
       "    </tr>\n",
       "    <tr>\n",
       "      <th>3</th>\n",
       "      <td>4</td>\n",
       "      <td>Fed risks falling 'behind the curve', Charles ...</td>\n",
       "      <td>http://www.ifamagazine.com/news/fed-risks-fall...</td>\n",
       "      <td>IFA Magazine</td>\n",
       "      <td>b</td>\n",
       "      <td>ddUyU0VZz0BRneMioxUPQVP6sIxvM</td>\n",
       "      <td>www.ifamagazine.com</td>\n",
       "      <td>1394470371793</td>\n",
       "    </tr>\n",
       "    <tr>\n",
       "      <th>4</th>\n",
       "      <td>5</td>\n",
       "      <td>Fed's Plosser: Nasty Weather Has Curbed Job Gr...</td>\n",
       "      <td>http://www.moneynews.com/Economy/federal-reser...</td>\n",
       "      <td>Moneynews</td>\n",
       "      <td>b</td>\n",
       "      <td>ddUyU0VZz0BRneMioxUPQVP6sIxvM</td>\n",
       "      <td>www.moneynews.com</td>\n",
       "      <td>1394470372027</td>\n",
       "    </tr>\n",
       "  </tbody>\n",
       "</table>\n",
       "</div>"
      ],
      "text/plain": [
       "   ID                                              TITLE  \\\n",
       "0   1  Fed official says weak data caused by weather,...   \n",
       "1   2  Fed's Charles Plosser sees high bar for change...   \n",
       "2   3  US open: Stocks fall after Fed official hints ...   \n",
       "3   4  Fed risks falling 'behind the curve', Charles ...   \n",
       "4   5  Fed's Plosser: Nasty Weather Has Curbed Job Gr...   \n",
       "\n",
       "                                                 URL          PUBLISHER  \\\n",
       "0  http://www.latimes.com/business/money/la-fi-mo...  Los Angeles Times   \n",
       "1  http://www.livemint.com/Politics/H2EvwJSK2VE6O...           Livemint   \n",
       "2  http://www.ifamagazine.com/news/us-open-stocks...       IFA Magazine   \n",
       "3  http://www.ifamagazine.com/news/fed-risks-fall...       IFA Magazine   \n",
       "4  http://www.moneynews.com/Economy/federal-reser...          Moneynews   \n",
       "\n",
       "  CATEGORY                          STORY             HOSTNAME      TIMESTAMP  \n",
       "0        b  ddUyU0VZz0BRneMioxUPQVP6sIxvM      www.latimes.com  1394470370698  \n",
       "1        b  ddUyU0VZz0BRneMioxUPQVP6sIxvM     www.livemint.com  1394470371207  \n",
       "2        b  ddUyU0VZz0BRneMioxUPQVP6sIxvM  www.ifamagazine.com  1394470371550  \n",
       "3        b  ddUyU0VZz0BRneMioxUPQVP6sIxvM  www.ifamagazine.com  1394470371793  \n",
       "4        b  ddUyU0VZz0BRneMioxUPQVP6sIxvM    www.moneynews.com  1394470372027  "
      ]
     },
     "execution_count": 4,
     "metadata": {},
     "output_type": "execute_result"
    }
   ],
   "source": [
    "df.head()"
   ]
  },
  {
   "cell_type": "code",
   "execution_count": 5,
   "id": "63998df0-a3d8-460d-882e-fb3eda0e7ea8",
   "metadata": {
    "execution": {
     "iopub.execute_input": "2025-06-04T08:42:37.279424Z",
     "iopub.status.busy": "2025-06-04T08:42:37.278711Z",
     "iopub.status.idle": "2025-06-04T08:42:37.305369Z",
     "shell.execute_reply": "2025-06-04T08:42:37.304806Z",
     "shell.execute_reply.started": "2025-06-04T08:42:37.279396Z"
    }
   },
   "outputs": [
    {
     "data": {
      "text/html": [
       "<div>\n",
       "<style scoped>\n",
       "    .dataframe tbody tr th:only-of-type {\n",
       "        vertical-align: middle;\n",
       "    }\n",
       "\n",
       "    .dataframe tbody tr th {\n",
       "        vertical-align: top;\n",
       "    }\n",
       "\n",
       "    .dataframe thead th {\n",
       "        text-align: right;\n",
       "    }\n",
       "</style>\n",
       "<table border=\"1\" class=\"dataframe\">\n",
       "  <thead>\n",
       "    <tr style=\"text-align: right;\">\n",
       "      <th></th>\n",
       "      <th>ID</th>\n",
       "      <th>TIMESTAMP</th>\n",
       "    </tr>\n",
       "  </thead>\n",
       "  <tbody>\n",
       "    <tr>\n",
       "      <th>count</th>\n",
       "      <td>422419.000000</td>\n",
       "      <td>4.224190e+05</td>\n",
       "    </tr>\n",
       "    <tr>\n",
       "      <th>mean</th>\n",
       "      <td>211536.764594</td>\n",
       "      <td>1.400445e+12</td>\n",
       "    </tr>\n",
       "    <tr>\n",
       "      <th>std</th>\n",
       "      <td>122102.839707</td>\n",
       "      <td>3.733088e+09</td>\n",
       "    </tr>\n",
       "    <tr>\n",
       "      <th>min</th>\n",
       "      <td>1.000000</td>\n",
       "      <td>1.394470e+12</td>\n",
       "    </tr>\n",
       "    <tr>\n",
       "      <th>25%</th>\n",
       "      <td>105801.500000</td>\n",
       "      <td>1.397349e+12</td>\n",
       "    </tr>\n",
       "    <tr>\n",
       "      <th>50%</th>\n",
       "      <td>211655.000000</td>\n",
       "      <td>1.399990e+12</td>\n",
       "    </tr>\n",
       "    <tr>\n",
       "      <th>75%</th>\n",
       "      <td>317273.500000</td>\n",
       "      <td>1.403775e+12</td>\n",
       "    </tr>\n",
       "    <tr>\n",
       "      <th>max</th>\n",
       "      <td>422937.000000</td>\n",
       "      <td>1.409229e+12</td>\n",
       "    </tr>\n",
       "  </tbody>\n",
       "</table>\n",
       "</div>"
      ],
      "text/plain": [
       "                  ID     TIMESTAMP\n",
       "count  422419.000000  4.224190e+05\n",
       "mean   211536.764594  1.400445e+12\n",
       "std    122102.839707  3.733088e+09\n",
       "min         1.000000  1.394470e+12\n",
       "25%    105801.500000  1.397349e+12\n",
       "50%    211655.000000  1.399990e+12\n",
       "75%    317273.500000  1.403775e+12\n",
       "max    422937.000000  1.409229e+12"
      ]
     },
     "execution_count": 5,
     "metadata": {},
     "output_type": "execute_result"
    }
   ],
   "source": [
    "df.describe()"
   ]
  },
  {
   "cell_type": "code",
   "execution_count": 6,
   "id": "89c2f83d-0083-4f08-8117-f20f69bfe806",
   "metadata": {
    "execution": {
     "iopub.execute_input": "2025-06-04T08:42:38.297333Z",
     "iopub.status.busy": "2025-06-04T08:42:38.296822Z",
     "iopub.status.idle": "2025-06-04T08:42:38.415791Z",
     "shell.execute_reply": "2025-06-04T08:42:38.415140Z",
     "shell.execute_reply.started": "2025-06-04T08:42:38.297309Z"
    }
   },
   "outputs": [
    {
     "name": "stdout",
     "output_type": "stream",
     "text": [
      "<class 'pandas.core.frame.DataFrame'>\n",
      "RangeIndex: 422419 entries, 0 to 422418\n",
      "Data columns (total 8 columns):\n",
      " #   Column     Non-Null Count   Dtype \n",
      "---  ------     --------------   ----- \n",
      " 0   ID         422419 non-null  int64 \n",
      " 1   TITLE      422419 non-null  object\n",
      " 2   URL        422419 non-null  object\n",
      " 3   PUBLISHER  422417 non-null  object\n",
      " 4   CATEGORY   422419 non-null  object\n",
      " 5   STORY      422419 non-null  object\n",
      " 6   HOSTNAME   422419 non-null  object\n",
      " 7   TIMESTAMP  422419 non-null  int64 \n",
      "dtypes: int64(2), object(6)\n",
      "memory usage: 25.8+ MB\n"
     ]
    }
   ],
   "source": [
    "df.info()"
   ]
  },
  {
   "cell_type": "code",
   "execution_count": 7,
   "id": "d11af9c2-7bc1-43de-815c-f82ab3c0b5a1",
   "metadata": {
    "execution": {
     "iopub.execute_input": "2025-06-04T08:42:39.458417Z",
     "iopub.status.busy": "2025-06-04T08:42:39.457912Z",
     "iopub.status.idle": "2025-06-04T08:42:39.462388Z",
     "shell.execute_reply": "2025-06-04T08:42:39.461903Z",
     "shell.execute_reply.started": "2025-06-04T08:42:39.458396Z"
    }
   },
   "outputs": [
    {
     "data": {
      "text/plain": [
       "(422419, 8)"
      ]
     },
     "execution_count": 7,
     "metadata": {},
     "output_type": "execute_result"
    }
   ],
   "source": [
    "df.shape"
   ]
  },
  {
   "cell_type": "code",
   "execution_count": 8,
   "id": "8d204bdc-bcc2-4b36-9f28-95f8a9c2f279",
   "metadata": {
    "execution": {
     "iopub.execute_input": "2025-06-04T08:42:40.725541Z",
     "iopub.status.busy": "2025-06-04T08:42:40.724866Z",
     "iopub.status.idle": "2025-06-04T08:42:40.749333Z",
     "shell.execute_reply": "2025-06-04T08:42:40.748327Z",
     "shell.execute_reply.started": "2025-06-04T08:42:40.725511Z"
    }
   },
   "outputs": [],
   "source": [
    "df_work = df.copy()"
   ]
  },
  {
   "cell_type": "code",
   "execution_count": 9,
   "id": "f0fd26ff-5e65-426f-ab51-5655ebdef6cd",
   "metadata": {
    "execution": {
     "iopub.execute_input": "2025-06-04T08:42:42.037041Z",
     "iopub.status.busy": "2025-06-04T08:42:42.035976Z",
     "iopub.status.idle": "2025-06-04T08:42:42.067001Z",
     "shell.execute_reply": "2025-06-04T08:42:42.066089Z",
     "shell.execute_reply.started": "2025-06-04T08:42:42.037005Z"
    }
   },
   "outputs": [],
   "source": [
    "df_work = df_work[['TITLE', 'CATEGORY']]"
   ]
  },
  {
   "cell_type": "code",
   "execution_count": 10,
   "id": "2ed6eca2-2bc1-41a7-88ea-f86f3064f4ec",
   "metadata": {
    "execution": {
     "iopub.execute_input": "2025-06-04T08:42:43.498671Z",
     "iopub.status.busy": "2025-06-04T08:42:43.498035Z",
     "iopub.status.idle": "2025-06-04T08:42:43.506923Z",
     "shell.execute_reply": "2025-06-04T08:42:43.506208Z",
     "shell.execute_reply.started": "2025-06-04T08:42:43.498598Z"
    }
   },
   "outputs": [
    {
     "data": {
      "text/html": [
       "<div>\n",
       "<style scoped>\n",
       "    .dataframe tbody tr th:only-of-type {\n",
       "        vertical-align: middle;\n",
       "    }\n",
       "\n",
       "    .dataframe tbody tr th {\n",
       "        vertical-align: top;\n",
       "    }\n",
       "\n",
       "    .dataframe thead th {\n",
       "        text-align: right;\n",
       "    }\n",
       "</style>\n",
       "<table border=\"1\" class=\"dataframe\">\n",
       "  <thead>\n",
       "    <tr style=\"text-align: right;\">\n",
       "      <th></th>\n",
       "      <th>TITLE</th>\n",
       "      <th>CATEGORY</th>\n",
       "    </tr>\n",
       "  </thead>\n",
       "  <tbody>\n",
       "    <tr>\n",
       "      <th>0</th>\n",
       "      <td>Fed official says weak data caused by weather,...</td>\n",
       "      <td>b</td>\n",
       "    </tr>\n",
       "    <tr>\n",
       "      <th>1</th>\n",
       "      <td>Fed's Charles Plosser sees high bar for change...</td>\n",
       "      <td>b</td>\n",
       "    </tr>\n",
       "    <tr>\n",
       "      <th>2</th>\n",
       "      <td>US open: Stocks fall after Fed official hints ...</td>\n",
       "      <td>b</td>\n",
       "    </tr>\n",
       "    <tr>\n",
       "      <th>3</th>\n",
       "      <td>Fed risks falling 'behind the curve', Charles ...</td>\n",
       "      <td>b</td>\n",
       "    </tr>\n",
       "    <tr>\n",
       "      <th>4</th>\n",
       "      <td>Fed's Plosser: Nasty Weather Has Curbed Job Gr...</td>\n",
       "      <td>b</td>\n",
       "    </tr>\n",
       "    <tr>\n",
       "      <th>...</th>\n",
       "      <td>...</td>\n",
       "      <td>...</td>\n",
       "    </tr>\n",
       "    <tr>\n",
       "      <th>422414</th>\n",
       "      <td>Surgeons to remove 4-year-old's rib to rebuild...</td>\n",
       "      <td>m</td>\n",
       "    </tr>\n",
       "    <tr>\n",
       "      <th>422415</th>\n",
       "      <td>Boy to have surgery on esophagus after battery...</td>\n",
       "      <td>m</td>\n",
       "    </tr>\n",
       "    <tr>\n",
       "      <th>422416</th>\n",
       "      <td>Child who swallowed battery to have reconstruc...</td>\n",
       "      <td>m</td>\n",
       "    </tr>\n",
       "    <tr>\n",
       "      <th>422417</th>\n",
       "      <td>Phoenix boy undergoes surgery to repair throat...</td>\n",
       "      <td>m</td>\n",
       "    </tr>\n",
       "    <tr>\n",
       "      <th>422418</th>\n",
       "      <td>Phoenix boy undergoes surgery to repair throat...</td>\n",
       "      <td>m</td>\n",
       "    </tr>\n",
       "  </tbody>\n",
       "</table>\n",
       "<p>422419 rows × 2 columns</p>\n",
       "</div>"
      ],
      "text/plain": [
       "                                                    TITLE CATEGORY\n",
       "0       Fed official says weak data caused by weather,...        b\n",
       "1       Fed's Charles Plosser sees high bar for change...        b\n",
       "2       US open: Stocks fall after Fed official hints ...        b\n",
       "3       Fed risks falling 'behind the curve', Charles ...        b\n",
       "4       Fed's Plosser: Nasty Weather Has Curbed Job Gr...        b\n",
       "...                                                   ...      ...\n",
       "422414  Surgeons to remove 4-year-old's rib to rebuild...        m\n",
       "422415  Boy to have surgery on esophagus after battery...        m\n",
       "422416  Child who swallowed battery to have reconstruc...        m\n",
       "422417  Phoenix boy undergoes surgery to repair throat...        m\n",
       "422418  Phoenix boy undergoes surgery to repair throat...        m\n",
       "\n",
       "[422419 rows x 2 columns]"
      ]
     },
     "execution_count": 10,
     "metadata": {},
     "output_type": "execute_result"
    }
   ],
   "source": [
    "df_work"
   ]
  },
  {
   "cell_type": "code",
   "execution_count": 11,
   "id": "47825404-9e1b-4213-8645-aab9572697b1",
   "metadata": {
    "execution": {
     "iopub.execute_input": "2025-06-04T08:42:44.869618Z",
     "iopub.status.busy": "2025-06-04T08:42:44.868816Z",
     "iopub.status.idle": "2025-06-04T08:42:44.874056Z",
     "shell.execute_reply": "2025-06-04T08:42:44.873327Z",
     "shell.execute_reply.started": "2025-06-04T08:42:44.869587Z"
    }
   },
   "outputs": [],
   "source": [
    "mctc_dict = {\n",
    "    'e': 'Entertainment',\n",
    "    'b': 'Business',\n",
    "    't': 'Science',\n",
    "    'm': 'Health'\n",
    "}"
   ]
  },
  {
   "cell_type": "code",
   "execution_count": 12,
   "id": "9a950a20-c63e-40d1-914a-30a76fb79926",
   "metadata": {
    "execution": {
     "iopub.execute_input": "2025-06-04T08:42:45.877268Z",
     "iopub.status.busy": "2025-06-04T08:42:45.876613Z",
     "iopub.status.idle": "2025-06-04T08:42:45.957679Z",
     "shell.execute_reply": "2025-06-04T08:42:45.956922Z",
     "shell.execute_reply.started": "2025-06-04T08:42:45.877242Z"
    }
   },
   "outputs": [],
   "source": [
    "def update_category(x):\n",
    "    return mctc_dict[x]\n",
    "\n",
    "df_work['CATEGORY'] = df_work['CATEGORY'].apply(lambda x: update_category(x))"
   ]
  },
  {
   "cell_type": "code",
   "execution_count": 13,
   "id": "f5be4636-0486-48d5-b22f-aacde0e58f2b",
   "metadata": {
    "execution": {
     "iopub.execute_input": "2025-06-04T08:42:47.080280Z",
     "iopub.status.busy": "2025-06-04T08:42:47.079973Z",
     "iopub.status.idle": "2025-06-04T08:42:47.090185Z",
     "shell.execute_reply": "2025-06-04T08:42:47.089233Z",
     "shell.execute_reply.started": "2025-06-04T08:42:47.080259Z"
    }
   },
   "outputs": [
    {
     "data": {
      "text/html": [
       "<div>\n",
       "<style scoped>\n",
       "    .dataframe tbody tr th:only-of-type {\n",
       "        vertical-align: middle;\n",
       "    }\n",
       "\n",
       "    .dataframe tbody tr th {\n",
       "        vertical-align: top;\n",
       "    }\n",
       "\n",
       "    .dataframe thead th {\n",
       "        text-align: right;\n",
       "    }\n",
       "</style>\n",
       "<table border=\"1\" class=\"dataframe\">\n",
       "  <thead>\n",
       "    <tr style=\"text-align: right;\">\n",
       "      <th></th>\n",
       "      <th>TITLE</th>\n",
       "      <th>CATEGORY</th>\n",
       "    </tr>\n",
       "  </thead>\n",
       "  <tbody>\n",
       "    <tr>\n",
       "      <th>0</th>\n",
       "      <td>Fed official says weak data caused by weather,...</td>\n",
       "      <td>Business</td>\n",
       "    </tr>\n",
       "    <tr>\n",
       "      <th>1</th>\n",
       "      <td>Fed's Charles Plosser sees high bar for change...</td>\n",
       "      <td>Business</td>\n",
       "    </tr>\n",
       "    <tr>\n",
       "      <th>2</th>\n",
       "      <td>US open: Stocks fall after Fed official hints ...</td>\n",
       "      <td>Business</td>\n",
       "    </tr>\n",
       "    <tr>\n",
       "      <th>3</th>\n",
       "      <td>Fed risks falling 'behind the curve', Charles ...</td>\n",
       "      <td>Business</td>\n",
       "    </tr>\n",
       "    <tr>\n",
       "      <th>4</th>\n",
       "      <td>Fed's Plosser: Nasty Weather Has Curbed Job Gr...</td>\n",
       "      <td>Business</td>\n",
       "    </tr>\n",
       "    <tr>\n",
       "      <th>...</th>\n",
       "      <td>...</td>\n",
       "      <td>...</td>\n",
       "    </tr>\n",
       "    <tr>\n",
       "      <th>422414</th>\n",
       "      <td>Surgeons to remove 4-year-old's rib to rebuild...</td>\n",
       "      <td>Health</td>\n",
       "    </tr>\n",
       "    <tr>\n",
       "      <th>422415</th>\n",
       "      <td>Boy to have surgery on esophagus after battery...</td>\n",
       "      <td>Health</td>\n",
       "    </tr>\n",
       "    <tr>\n",
       "      <th>422416</th>\n",
       "      <td>Child who swallowed battery to have reconstruc...</td>\n",
       "      <td>Health</td>\n",
       "    </tr>\n",
       "    <tr>\n",
       "      <th>422417</th>\n",
       "      <td>Phoenix boy undergoes surgery to repair throat...</td>\n",
       "      <td>Health</td>\n",
       "    </tr>\n",
       "    <tr>\n",
       "      <th>422418</th>\n",
       "      <td>Phoenix boy undergoes surgery to repair throat...</td>\n",
       "      <td>Health</td>\n",
       "    </tr>\n",
       "  </tbody>\n",
       "</table>\n",
       "<p>422419 rows × 2 columns</p>\n",
       "</div>"
      ],
      "text/plain": [
       "                                                    TITLE  CATEGORY\n",
       "0       Fed official says weak data caused by weather,...  Business\n",
       "1       Fed's Charles Plosser sees high bar for change...  Business\n",
       "2       US open: Stocks fall after Fed official hints ...  Business\n",
       "3       Fed risks falling 'behind the curve', Charles ...  Business\n",
       "4       Fed's Plosser: Nasty Weather Has Curbed Job Gr...  Business\n",
       "...                                                   ...       ...\n",
       "422414  Surgeons to remove 4-year-old's rib to rebuild...    Health\n",
       "422415  Boy to have surgery on esophagus after battery...    Health\n",
       "422416  Child who swallowed battery to have reconstruc...    Health\n",
       "422417  Phoenix boy undergoes surgery to repair throat...    Health\n",
       "422418  Phoenix boy undergoes surgery to repair throat...    Health\n",
       "\n",
       "[422419 rows x 2 columns]"
      ]
     },
     "execution_count": 13,
     "metadata": {},
     "output_type": "execute_result"
    }
   ],
   "source": [
    "df_work"
   ]
  },
  {
   "cell_type": "code",
   "execution_count": 14,
   "id": "cc8e3004-2eb4-4874-9f29-81aa0e038295",
   "metadata": {
    "execution": {
     "iopub.execute_input": "2025-06-04T08:42:48.313583Z",
     "iopub.status.busy": "2025-06-04T08:42:48.313279Z",
     "iopub.status.idle": "2025-06-04T08:42:48.352096Z",
     "shell.execute_reply": "2025-06-04T08:42:48.351402Z",
     "shell.execute_reply.started": "2025-06-04T08:42:48.313558Z"
    }
   },
   "outputs": [
    {
     "name": "stdout",
     "output_type": "stream",
     "text": [
      "'Breaking Bad' and 'Modern Family' win Emmy Awards\n"
     ]
    }
   ],
   "source": [
    "import random\n",
    "\n",
    "def get_random_title_Category(category):\n",
    "    filtered_df = df_work[df_work['CATEGORY']==category]\n",
    "    return filtered_df['TITLE'].sample().values[0]\n",
    "\n",
    "category = 'Entertainment'\n",
    "\n",
    "random_title = get_random_title_Category(category)\n",
    "\n",
    "print(random_title)"
   ]
  },
  {
   "cell_type": "code",
   "execution_count": null,
   "id": "042bfe0b-d716-4301-8b95-8e4989b58199",
   "metadata": {},
   "outputs": [],
   "source": []
  },
  {
   "cell_type": "code",
   "execution_count": 15,
   "id": "77f047e0-f100-41e3-a591-c8efed869cfc",
   "metadata": {
    "execution": {
     "iopub.execute_input": "2025-06-04T08:42:51.249048Z",
     "iopub.status.busy": "2025-06-04T08:42:51.248331Z",
     "iopub.status.idle": "2025-06-04T08:42:51.946238Z",
     "shell.execute_reply": "2025-06-04T08:42:51.945560Z",
     "shell.execute_reply.started": "2025-06-04T08:42:51.249020Z"
    }
   },
   "outputs": [
    {
     "data": {
      "image/png": "[encoded data removed]",
      "text/plain": [
       "<Figure size 1000x600 with 1 Axes>"
      ]
     },
     "metadata": {},
     "output_type": "display_data"
    }
   ],
   "source": [
    "# Bar Chart\n",
    "\n",
    "plt.figure(figsize = (10, 6))\n",
    "sns.countplot(data = df_work, x = 'CATEGORY', order = df_work['CATEGORY'].value_counts().index)\n",
    "plt.title('Distribution of Categories')\n",
    "plt.xticks(rotation = 45)\n",
    "plt.show()"
   ]
  },
  {
   "cell_type": "code",
   "execution_count": 16,
   "id": "33f28ce5-ec0b-4701-a769-14c8e5518360",
   "metadata": {
    "execution": {
     "iopub.execute_input": "2025-06-04T08:42:54.830216Z",
     "iopub.status.busy": "2025-06-04T08:42:54.829330Z",
     "iopub.status.idle": "2025-06-04T08:42:54.855176Z",
     "shell.execute_reply": "2025-06-04T08:42:54.854055Z",
     "shell.execute_reply.started": "2025-06-04T08:42:54.830181Z"
    }
   },
   "outputs": [],
   "source": [
    "category_count = df_work['CATEGORY'].value_counts()"
   ]
  },
  {
   "cell_type": "code",
   "execution_count": 17,
   "id": "05241325-7545-4298-884e-e2a14d6bbd05",
   "metadata": {
    "execution": {
     "iopub.execute_input": "2025-06-04T08:42:56.072330Z",
     "iopub.status.busy": "2025-06-04T08:42:56.072039Z",
     "iopub.status.idle": "2025-06-04T08:42:56.171694Z",
     "shell.execute_reply": "2025-06-04T08:42:56.170953Z",
     "shell.execute_reply.started": "2025-06-04T08:42:56.072310Z"
    }
   },
   "outputs": [
    {
     "data": {
      "image/png": "[encoded data removed]",
      "text/plain": [
       "<Figure size 800x800 with 1 Axes>"
      ]
     },
     "metadata": {},
     "output_type": "display_data"
    }
   ],
   "source": [
    "plt.figure(figsize = (8,8))\n",
    "plt.pie(category_count, labels = category_count.index, autopct= '%1.1f%%', startangle = 90)\n",
    "plt.title('Property of Each Category')\n",
    "plt.show()"
   ]
  },
  {
   "cell_type": "code",
   "execution_count": null,
   "id": "a588cf9a-16f6-42d8-aff9-bd5fd174959c",
   "metadata": {},
   "outputs": [],
   "source": []
  }
 ],
 "metadata": {
  "kernelspec": {
   "display_name": "Python 3 (ipykernel)",
   "language": "python",
   "name": "python3"
  },
  "language_info": {
   "codemirror_mode": {
    "name": "ipython",
    "version": 3
   },
   "file_extension": ".py",
   "mimetype": "text/x-python",
   "name": "python",
   "nbconvert_exporter": "python",
   "pygments_lexer": "ipython3",
   "version": "3.12.9"
  }
 },
 "nbformat": 4,
 "nbformat_minor": 5
}
