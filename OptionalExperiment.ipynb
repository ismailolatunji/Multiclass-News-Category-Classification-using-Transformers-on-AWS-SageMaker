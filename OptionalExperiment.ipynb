{
 "cells": [
  {
   "cell_type": "code",
   "execution_count": 1,
   "id": "9cf95f61-f292-4dbe-b86d-fb4a869b5925",
   "metadata": {
    "execution": {
     "iopub.execute_input": "2025-06-05T15:24:35.288453Z",
     "iopub.status.busy": "2025-06-05T15:24:35.287902Z",
     "iopub.status.idle": "2025-06-05T15:24:37.022741Z",
     "shell.execute_reply": "2025-06-05T15:24:37.021648Z",
     "shell.execute_reply.started": "2025-06-05T15:24:35.288426Z"
    }
   },
   "outputs": [
    {
     "name": "stdout",
     "output_type": "stream",
     "text": [
      "Requirement already satisfied: transformers in /opt/conda/lib/python3.12/site-packages (4.51.3)\n",
      "Requirement already satisfied: filelock in /opt/conda/lib/python3.12/site-packages (from transformers) (3.18.0)\n",
      "Requirement already satisfied: huggingface-hub<1.0,>=0.30.0 in /opt/conda/lib/python3.12/site-packages (from transformers) (0.30.2)\n",
      "Requirement already satisfied: numpy>=1.17 in /opt/conda/lib/python3.12/site-packages (from transformers) (1.26.4)\n",
      "Requirement already satisfied: packaging>=20.0 in /opt/conda/lib/python3.12/site-packages (from transformers) (24.2)\n",
      "Requirement already satisfied: pyyaml>=5.1 in /opt/conda/lib/python3.12/site-packages (from transformers) (6.0.2)\n",
      "Requirement already satisfied: regex!=2019.12.17 in /opt/conda/lib/python3.12/site-packages (from transformers) (2024.11.6)\n",
      "Requirement already satisfied: requests in /opt/conda/lib/python3.12/site-packages (from transformers) (2.32.3)\n",
      "Requirement already satisfied: tokenizers<0.22,>=0.21 in /opt/conda/lib/python3.12/site-packages (from transformers) (0.21.1)\n",
      "Requirement already satisfied: safetensors>=0.4.3 in /opt/conda/lib/python3.12/site-packages (from transformers) (0.5.3)\n",
      "Requirement already satisfied: tqdm>=4.27 in /opt/conda/lib/python3.12/site-packages (from transformers) (4.67.1)\n",
      "Requirement already satisfied: fsspec>=2023.5.0 in /opt/conda/lib/python3.12/site-packages (from huggingface-hub<1.0,>=0.30.0->transformers) (2024.10.0)\n",
      "Requirement already satisfied: typing-extensions>=3.7.4.3 in /opt/conda/lib/python3.12/site-packages (from huggingface-hub<1.0,>=0.30.0->transformers) (4.13.2)\n",
      "Requirement already satisfied: charset_normalizer<4,>=2 in /opt/conda/lib/python3.12/site-packages (from requests->transformers) (3.4.2)\n",
      "Requirement already satisfied: idna<4,>=2.5 in /opt/conda/lib/python3.12/site-packages (from requests->transformers) (3.10)\n",
      "Requirement already satisfied: urllib3<3,>=1.21.1 in /opt/conda/lib/python3.12/site-packages (from requests->transformers) (1.26.19)\n",
      "Requirement already satisfied: certifi>=2017.4.17 in /opt/conda/lib/python3.12/site-packages (from requests->transformers) (2025.4.26)\n"
     ]
    }
   ],
   "source": [
    "!pip install transformers"
   ]
  },
  {
   "cell_type": "code",
   "execution_count": 2,
   "id": "0f4724de-eec5-4dc8-b973-36754b736320",
   "metadata": {
    "execution": {
     "iopub.execute_input": "2025-06-05T15:24:37.026669Z",
     "iopub.status.busy": "2025-06-05T15:24:37.026417Z",
     "iopub.status.idle": "2025-06-05T15:24:44.961471Z",
     "shell.execute_reply": "2025-06-05T15:24:44.960264Z",
     "shell.execute_reply.started": "2025-06-05T15:24:37.026644Z"
    }
   },
   "outputs": [
    {
     "name": "stderr",
     "output_type": "stream",
     "text": [
      "2025-06-05 15:24:42.377630: I tensorflow/core/platform/cpu_feature_guard.cc:210] This TensorFlow binary is optimized to use available CPU instructions in performance-critical operations.\n",
      "To enable the following instructions: SSE4.1 SSE4.2 AVX AVX2 AVX512F FMA, in other operations, rebuild TensorFlow with the appropriate compiler flags.\n"
     ]
    }
   ],
   "source": [
    "import torch\n",
    "import pandas as pd\n",
    "import numpy as np\n",
    "from torch.utils.data import DataLoader, Dataset\n",
    "from transformers import DistilBertTokenizer, DistilBertModel\n",
    "from tqdm import tqdm\n",
    "import argparse\n",
    "import os"
   ]
  },
  {
   "cell_type": "code",
   "execution_count": 3,
   "id": "594a92b4-5828-4f7d-8ea8-8cbded4fc619",
   "metadata": {
    "execution": {
     "iopub.execute_input": "2025-06-05T15:24:44.963423Z",
     "iopub.status.busy": "2025-06-05T15:24:44.962881Z",
     "iopub.status.idle": "2025-06-05T15:24:48.305618Z",
     "shell.execute_reply": "2025-06-05T15:24:48.304508Z",
     "shell.execute_reply.started": "2025-06-05T15:24:44.963394Z"
    }
   },
   "outputs": [],
   "source": [
    "s3_path = 's3://ism-multiclass-textclassification-bucket/training-data/newsCorpora.csv'\n",
    "df = pd.read_csv(s3_path, sep = '\\t', names = ['ID', 'TITLE', 'URL', 'PUBLISHER', 'CATEGORY', 'STORY', 'HOSTNAME', 'TIMESTAMP'])\n"
   ]
  },
  {
   "cell_type": "code",
   "execution_count": 4,
   "id": "316ab839-9679-4f2c-8e28-2c7d3a422282",
   "metadata": {
    "execution": {
     "iopub.execute_input": "2025-06-05T15:24:48.307692Z",
     "iopub.status.busy": "2025-06-05T15:24:48.306310Z",
     "iopub.status.idle": "2025-06-05T15:24:48.427183Z",
     "shell.execute_reply": "2025-06-05T15:24:48.426423Z",
     "shell.execute_reply.started": "2025-06-05T15:24:48.307590Z"
    }
   },
   "outputs": [
    {
     "name": "stdout",
     "output_type": "stream",
     "text": [
      "                                                    TITLE  CATEGORY\n",
      "0       Fed official says weak data caused by weather,...  Business\n",
      "1       Fed's Charles Plosser sees high bar for change...  Business\n",
      "2       US open: Stocks fall after Fed official hints ...  Business\n",
      "3       Fed risks falling 'behind the curve', Charles ...  Business\n",
      "4       Fed's Plosser: Nasty Weather Has Curbed Job Gr...  Business\n",
      "...                                                   ...       ...\n",
      "422414  Surgeons to remove 4-year-old's rib to rebuild...    Health\n",
      "422415  Boy to have surgery on esophagus after battery...    Health\n",
      "422416  Child who swallowed battery to have reconstruc...    Health\n",
      "422417  Phoenix boy undergoes surgery to repair throat...    Health\n",
      "422418  Phoenix boy undergoes surgery to repair throat...    Health\n",
      "\n",
      "[422419 rows x 2 columns]\n"
     ]
    }
   ],
   "source": [
    "df = df[['TITLE','CATEGORY']]\n",
    "\n",
    "my_dict = {\n",
    "    'e' : 'Entertainment',\n",
    "    'b' : 'Business',\n",
    "    't' : 'Science',\n",
    "    'm' : 'Health'\n",
    "}\n",
    "\n",
    "def update_cat(x):\n",
    "    return my_dict[x]\n",
    "\n",
    "df['CATEGORY'] = df['CATEGORY'].apply(lambda x:update_cat(x))\n",
    "\n",
    "print(df)"
   ]
  },
  {
   "cell_type": "code",
   "execution_count": 5,
   "id": "04f16f4e-1288-4ef5-813e-dae9e5d27bf4",
   "metadata": {
    "execution": {
     "iopub.execute_input": "2025-06-05T15:24:48.428320Z",
     "iopub.status.busy": "2025-06-05T15:24:48.427997Z",
     "iopub.status.idle": "2025-06-05T15:24:48.475164Z",
     "shell.execute_reply": "2025-06-05T15:24:48.474172Z",
     "shell.execute_reply.started": "2025-06-05T15:24:48.428297Z"
    }
   },
   "outputs": [],
   "source": [
    "# *Making a fraction of the dataset\n",
    "\n",
    "df = df.sample(frac = 0.05, random_state = 1)\n",
    "df = df.reset_index(drop = True)"
   ]
  },
  {
   "cell_type": "code",
   "execution_count": 6,
   "id": "a70b06c5-3321-4997-89fd-3548fe3b30ee",
   "metadata": {
    "execution": {
     "iopub.execute_input": "2025-06-05T15:24:53.523007Z",
     "iopub.status.busy": "2025-06-05T15:24:53.522266Z",
     "iopub.status.idle": "2025-06-05T15:24:53.535903Z",
     "shell.execute_reply": "2025-06-05T15:24:53.535153Z",
     "shell.execute_reply.started": "2025-06-05T15:24:53.522972Z"
    }
   },
   "outputs": [
    {
     "data": {
      "text/html": [
       "<div>\n",
       "<style scoped>\n",
       "    .dataframe tbody tr th:only-of-type {\n",
       "        vertical-align: middle;\n",
       "    }\n",
       "\n",
       "    .dataframe tbody tr th {\n",
       "        vertical-align: top;\n",
       "    }\n",
       "\n",
       "    .dataframe thead th {\n",
       "        text-align: right;\n",
       "    }\n",
       "</style>\n",
       "<table border=\"1\" class=\"dataframe\">\n",
       "  <thead>\n",
       "    <tr style=\"text-align: right;\">\n",
       "      <th></th>\n",
       "      <th>TITLE</th>\n",
       "      <th>CATEGORY</th>\n",
       "    </tr>\n",
       "  </thead>\n",
       "  <tbody>\n",
       "    <tr>\n",
       "      <th>0</th>\n",
       "      <td>Murdoch's bid for Time Warner rejected</td>\n",
       "      <td>Business</td>\n",
       "    </tr>\n",
       "    <tr>\n",
       "      <th>1</th>\n",
       "      <td>Rescuers close in on 3 trapped Honduran miners...</td>\n",
       "      <td>Business</td>\n",
       "    </tr>\n",
       "    <tr>\n",
       "      <th>2</th>\n",
       "      <td>Johnny Depp - Johnny Depp Served With Legal Pa...</td>\n",
       "      <td>Entertainment</td>\n",
       "    </tr>\n",
       "    <tr>\n",
       "      <th>3</th>\n",
       "      <td>Apple prepping move into \"smart home\" connecti...</td>\n",
       "      <td>Science</td>\n",
       "    </tr>\n",
       "    <tr>\n",
       "      <th>4</th>\n",
       "      <td>Ripped First Look: Dwayne Johnson as Brett Rat...</td>\n",
       "      <td>Entertainment</td>\n",
       "    </tr>\n",
       "    <tr>\n",
       "      <th>...</th>\n",
       "      <td>...</td>\n",
       "      <td>...</td>\n",
       "    </tr>\n",
       "    <tr>\n",
       "      <th>21116</th>\n",
       "      <td>Fed Beige Book: Activity, labor markets improv...</td>\n",
       "      <td>Business</td>\n",
       "    </tr>\n",
       "    <tr>\n",
       "      <th>21117</th>\n",
       "      <td>National Agriculture Day</td>\n",
       "      <td>Business</td>\n",
       "    </tr>\n",
       "    <tr>\n",
       "      <th>21118</th>\n",
       "      <td>Placenta Home to Diverse Bacteria That May Aff...</td>\n",
       "      <td>Health</td>\n",
       "    </tr>\n",
       "    <tr>\n",
       "      <th>21119</th>\n",
       "      <td>US TV network Fox to air live 'Grease' musical...</td>\n",
       "      <td>Entertainment</td>\n",
       "    </tr>\n",
       "    <tr>\n",
       "      <th>21120</th>\n",
       "      <td>Elton John Is Getting Married! Details Revealed</td>\n",
       "      <td>Entertainment</td>\n",
       "    </tr>\n",
       "  </tbody>\n",
       "</table>\n",
       "<p>21121 rows × 2 columns</p>\n",
       "</div>"
      ],
      "text/plain": [
       "                                                   TITLE       CATEGORY\n",
       "0                 Murdoch's bid for Time Warner rejected       Business\n",
       "1      Rescuers close in on 3 trapped Honduran miners...       Business\n",
       "2      Johnny Depp - Johnny Depp Served With Legal Pa...  Entertainment\n",
       "3      Apple prepping move into \"smart home\" connecti...        Science\n",
       "4      Ripped First Look: Dwayne Johnson as Brett Rat...  Entertainment\n",
       "...                                                  ...            ...\n",
       "21116  Fed Beige Book: Activity, labor markets improv...       Business\n",
       "21117                           National Agriculture Day       Business\n",
       "21118  Placenta Home to Diverse Bacteria That May Aff...         Health\n",
       "21119  US TV network Fox to air live 'Grease' musical...  Entertainment\n",
       "21120    Elton John Is Getting Married! Details Revealed  Entertainment\n",
       "\n",
       "[21121 rows x 2 columns]"
      ]
     },
     "execution_count": 6,
     "metadata": {},
     "output_type": "execute_result"
    }
   ],
   "source": [
    "df"
   ]
  },
  {
   "cell_type": "code",
   "execution_count": 9,
   "id": "a3ccce79-ff32-4808-9ce7-ee909227682d",
   "metadata": {
    "execution": {
     "iopub.execute_input": "2025-06-05T15:27:59.115908Z",
     "iopub.status.busy": "2025-06-05T15:27:59.115257Z",
     "iopub.status.idle": "2025-06-05T15:27:59.119475Z",
     "shell.execute_reply": "2025-06-05T15:27:59.118689Z",
     "shell.execute_reply.started": "2025-06-05T15:27:59.115874Z"
    }
   },
   "outputs": [],
   "source": [
    "encode_dict = {}"
   ]
  },
  {
   "cell_type": "code",
   "execution_count": 10,
   "id": "928999a9-0116-4595-b86d-cd24b122c7de",
   "metadata": {
    "execution": {
     "iopub.execute_input": "2025-06-05T15:28:00.776845Z",
     "iopub.status.busy": "2025-06-05T15:28:00.776549Z",
     "iopub.status.idle": "2025-06-05T15:28:00.781813Z",
     "shell.execute_reply": "2025-06-05T15:28:00.780883Z",
     "shell.execute_reply.started": "2025-06-05T15:28:00.776823Z"
    }
   },
   "outputs": [],
   "source": [
    "def encode_cat(x):\n",
    "    if x not in encode_dict.keys():\n",
    "        encode_dict[x] = len(encode_dict)\n",
    "    return encode_dict[x]"
   ]
  },
  {
   "cell_type": "code",
   "execution_count": 11,
   "id": "e73d2893-1fd0-4f03-9bbc-05abc74e8932",
   "metadata": {
    "execution": {
     "iopub.execute_input": "2025-06-05T15:28:03.087975Z",
     "iopub.status.busy": "2025-06-05T15:28:03.087190Z",
     "iopub.status.idle": "2025-06-05T15:28:03.102846Z",
     "shell.execute_reply": "2025-06-05T15:28:03.101821Z",
     "shell.execute_reply.started": "2025-06-05T15:28:03.087943Z"
    }
   },
   "outputs": [],
   "source": [
    "df['ENCODE_CAT'] = df['CATEGORY'].apply(lambda x : encode_cat(x))"
   ]
  },
  {
   "cell_type": "code",
   "execution_count": 13,
   "id": "f7b75234-b5db-4c21-9885-888dbc9a0e20",
   "metadata": {
    "execution": {
     "iopub.execute_input": "2025-06-05T15:28:55.034308Z",
     "iopub.status.busy": "2025-06-05T15:28:55.033992Z",
     "iopub.status.idle": "2025-06-05T15:28:55.041197Z",
     "shell.execute_reply": "2025-06-05T15:28:55.040181Z",
     "shell.execute_reply.started": "2025-06-05T15:28:55.034283Z"
    }
   },
   "outputs": [
    {
     "data": {
      "text/plain": [
       "dict_keys(['Business', 'Entertainment', 'Science', 'Health'])"
      ]
     },
     "execution_count": 13,
     "metadata": {},
     "output_type": "execute_result"
    }
   ],
   "source": [
    "encode_dict.keys()"
   ]
  },
  {
   "cell_type": "code",
   "execution_count": 14,
   "id": "95cd6810-309f-490f-85d2-a8729db71669",
   "metadata": {
    "execution": {
     "iopub.execute_input": "2025-06-05T15:29:00.468671Z",
     "iopub.status.busy": "2025-06-05T15:29:00.467962Z",
     "iopub.status.idle": "2025-06-05T15:29:00.479617Z",
     "shell.execute_reply": "2025-06-05T15:29:00.478629Z",
     "shell.execute_reply.started": "2025-06-05T15:29:00.468636Z"
    }
   },
   "outputs": [
    {
     "data": {
      "text/html": [
       "<div>\n",
       "<style scoped>\n",
       "    .dataframe tbody tr th:only-of-type {\n",
       "        vertical-align: middle;\n",
       "    }\n",
       "\n",
       "    .dataframe tbody tr th {\n",
       "        vertical-align: top;\n",
       "    }\n",
       "\n",
       "    .dataframe thead th {\n",
       "        text-align: right;\n",
       "    }\n",
       "</style>\n",
       "<table border=\"1\" class=\"dataframe\">\n",
       "  <thead>\n",
       "    <tr style=\"text-align: right;\">\n",
       "      <th></th>\n",
       "      <th>TITLE</th>\n",
       "      <th>CATEGORY</th>\n",
       "      <th>ENCODE_CAT</th>\n",
       "    </tr>\n",
       "  </thead>\n",
       "  <tbody>\n",
       "    <tr>\n",
       "      <th>0</th>\n",
       "      <td>Murdoch's bid for Time Warner rejected</td>\n",
       "      <td>Business</td>\n",
       "      <td>0</td>\n",
       "    </tr>\n",
       "    <tr>\n",
       "      <th>1</th>\n",
       "      <td>Rescuers close in on 3 trapped Honduran miners...</td>\n",
       "      <td>Business</td>\n",
       "      <td>0</td>\n",
       "    </tr>\n",
       "    <tr>\n",
       "      <th>2</th>\n",
       "      <td>Johnny Depp - Johnny Depp Served With Legal Pa...</td>\n",
       "      <td>Entertainment</td>\n",
       "      <td>1</td>\n",
       "    </tr>\n",
       "    <tr>\n",
       "      <th>3</th>\n",
       "      <td>Apple prepping move into \"smart home\" connecti...</td>\n",
       "      <td>Science</td>\n",
       "      <td>2</td>\n",
       "    </tr>\n",
       "    <tr>\n",
       "      <th>4</th>\n",
       "      <td>Ripped First Look: Dwayne Johnson as Brett Rat...</td>\n",
       "      <td>Entertainment</td>\n",
       "      <td>1</td>\n",
       "    </tr>\n",
       "    <tr>\n",
       "      <th>...</th>\n",
       "      <td>...</td>\n",
       "      <td>...</td>\n",
       "      <td>...</td>\n",
       "    </tr>\n",
       "    <tr>\n",
       "      <th>21116</th>\n",
       "      <td>Fed Beige Book: Activity, labor markets improv...</td>\n",
       "      <td>Business</td>\n",
       "      <td>0</td>\n",
       "    </tr>\n",
       "    <tr>\n",
       "      <th>21117</th>\n",
       "      <td>National Agriculture Day</td>\n",
       "      <td>Business</td>\n",
       "      <td>0</td>\n",
       "    </tr>\n",
       "    <tr>\n",
       "      <th>21118</th>\n",
       "      <td>Placenta Home to Diverse Bacteria That May Aff...</td>\n",
       "      <td>Health</td>\n",
       "      <td>3</td>\n",
       "    </tr>\n",
       "    <tr>\n",
       "      <th>21119</th>\n",
       "      <td>US TV network Fox to air live 'Grease' musical...</td>\n",
       "      <td>Entertainment</td>\n",
       "      <td>1</td>\n",
       "    </tr>\n",
       "    <tr>\n",
       "      <th>21120</th>\n",
       "      <td>Elton John Is Getting Married! Details Revealed</td>\n",
       "      <td>Entertainment</td>\n",
       "      <td>1</td>\n",
       "    </tr>\n",
       "  </tbody>\n",
       "</table>\n",
       "<p>21121 rows × 3 columns</p>\n",
       "</div>"
      ],
      "text/plain": [
       "                                                   TITLE       CATEGORY  \\\n",
       "0                 Murdoch's bid for Time Warner rejected       Business   \n",
       "1      Rescuers close in on 3 trapped Honduran miners...       Business   \n",
       "2      Johnny Depp - Johnny Depp Served With Legal Pa...  Entertainment   \n",
       "3      Apple prepping move into \"smart home\" connecti...        Science   \n",
       "4      Ripped First Look: Dwayne Johnson as Brett Rat...  Entertainment   \n",
       "...                                                  ...            ...   \n",
       "21116  Fed Beige Book: Activity, labor markets improv...       Business   \n",
       "21117                           National Agriculture Day       Business   \n",
       "21118  Placenta Home to Diverse Bacteria That May Aff...         Health   \n",
       "21119  US TV network Fox to air live 'Grease' musical...  Entertainment   \n",
       "21120    Elton John Is Getting Married! Details Revealed  Entertainment   \n",
       "\n",
       "       ENCODE_CAT  \n",
       "0               0  \n",
       "1               0  \n",
       "2               1  \n",
       "3               2  \n",
       "4               1  \n",
       "...           ...  \n",
       "21116           0  \n",
       "21117           0  \n",
       "21118           3  \n",
       "21119           1  \n",
       "21120           1  \n",
       "\n",
       "[21121 rows x 3 columns]"
      ]
     },
     "execution_count": 14,
     "metadata": {},
     "output_type": "execute_result"
    }
   ],
   "source": [
    "df"
   ]
  },
  {
   "cell_type": "code",
   "execution_count": 4,
   "id": "4c300924-806e-4c92-978d-7c7acde543b2",
   "metadata": {
    "execution": {
     "iopub.execute_input": "2025-06-05T18:23:28.098939Z",
     "iopub.status.busy": "2025-06-05T18:23:28.098421Z",
     "iopub.status.idle": "2025-06-05T18:23:28.195415Z",
     "shell.execute_reply": "2025-06-05T18:23:28.194759Z",
     "shell.execute_reply.started": "2025-06-05T18:23:28.098915Z"
    }
   },
   "outputs": [
    {
     "name": "stdout",
     "output_type": "stream",
     "text": [
      "Inputs IDs: [101, 1045, 2293, 5087, 2142, 2374, 2136, 102, 0, 0, 0, 0, 0, 0, 0, 0, 0, 0, 0, 0]\n",
      "Attention Mask: [1, 1, 1, 1, 1, 1, 1, 1, 0, 0, 0, 0, 0, 0, 0, 0, 0, 0, 0, 0]\n",
      "Token type IDs: [0, 0, 0, 0, 0, 0, 0, 0, 0, 0, 0, 0, 0, 0, 0, 0, 0, 0, 0, 0]\n"
     ]
    }
   ],
   "source": [
    "from transformers import DistilBertTokenizer\n",
    "\n",
    "tokenizer = DistilBertTokenizer.from_pretrained('distilbert-base-uncased')\n",
    "\n",
    "inputs = tokenizer.encode_plus(\n",
    "    'I love Manchester United football team',\n",
    "    add_special_tokens = True,\n",
    "    max_length = 20,\n",
    "    padding = 'max_length',\n",
    "    truncation = True,\n",
    "    return_token_type_ids = True,\n",
    "    return_attention_mask = True\n",
    ")\n",
    "\n",
    "print('Inputs IDs:', inputs['input_ids'])\n",
    "print('Attention Mask:', inputs['attention_mask'])\n",
    "print('Token type IDs:', inputs['token_type_ids'])"
   ]
  },
  {
   "cell_type": "code",
   "execution_count": null,
   "id": "d1dc30d2-65d9-482e-adcf-416bff3037fe",
   "metadata": {},
   "outputs": [],
   "source": []
  }
 ],
 "metadata": {
  "kernelspec": {
   "display_name": "Python 3 (ipykernel)",
   "language": "python",
   "name": "python3"
  },
  "language_info": {
   "codemirror_mode": {
    "name": "ipython",
    "version": 3
   },
   "file_extension": ".py",
   "mimetype": "text/x-python",
   "name": "python",
   "nbconvert_exporter": "python",
   "pygments_lexer": "ipython3",
   "version": "3.12.9"
  },
  "widgets": {
   "application/vnd.jupyter.widget-state+json": {
    "state": {},
    "version_major": 2,
    "version_minor": 0
   }
  }
 },
 "nbformat": 4,
 "nbformat_minor": 5
}
